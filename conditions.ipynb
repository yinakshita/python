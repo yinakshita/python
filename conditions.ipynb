{
 "cells": [
  {
   "cell_type": "code",
   "execution_count": 1,
   "id": "99f1238c",
   "metadata": {},
   "outputs": [
    {
     "name": "stdout",
     "output_type": "stream",
     "text": [
      "You are not eligible to vote.😢\n"
     ]
    }
   ],
   "source": [
    "# if-else statements\n",
    "age = 15\n",
    "if age >= 18:\n",
    "    print(\"You are eligible to vote.😊\")\n",
    "else:\n",
    "    print(\"You are not eligible to vote.😢\")    "
   ]
  },
  {
   "cell_type": "code",
   "execution_count": 2,
   "id": "9868a58b",
   "metadata": {},
   "outputs": [
    {
     "name": "stdout",
     "output_type": "stream",
     "text": [
      "Grade: B🥲\n"
     ]
    }
   ],
   "source": [
    "#if-elif-else ladder\n",
    "marks = 75\n",
    "if marks >= 90:\n",
    "    print(\"Grade: A+😁\")\n",
    "elif marks >= 80:\n",
    "    print(\"Grade: A😊\")\n",
    "elif marks >= 60:\n",
    "    print(\"Grade: B🥲\")\n",
    "else:\n",
    "    print(\"Fail😭\")            "
   ]
  },
  {
   "cell_type": "code",
   "execution_count": 3,
   "id": "5ccfcc63",
   "metadata": {},
   "outputs": [
    {
     "name": "stdout",
     "output_type": "stream",
     "text": [
      "Positive number\n",
      "Even number\n"
     ]
    }
   ],
   "source": [
    "#Nested if (if ke andar if)\n",
    "\n",
    "num = 10\n",
    "if num > 0:\n",
    "    print(\"Positive number\")\n",
    "    if num % 2 == 0:\n",
    "        print(\"Even number\")\n",
    "        "
   ]
  },
  {
   "cell_type": "markdown",
   "id": "84f65d95",
   "metadata": {},
   "source": [
    "✅ Practice Karne ke Liye Questions:\n",
    "\n",
    "1. Check if a number is positive, negative or zero\n",
    "\n",
    "\n",
    "2. Check if age is above 18 (vote eligibility)\n",
    "\n",
    "\n",
    "3. Check whether number is even or odd\n",
    "\n",
    "\n",
    "4. Check if character is vowel or not\n",
    "\n",
    "\n"
   ]
  },
  {
   "cell_type": "code",
   "execution_count": 8,
   "id": "0cfbef52",
   "metadata": {},
   "outputs": [
    {
     "name": "stdout",
     "output_type": "stream",
     "text": [
      "zero\n"
     ]
    }
   ],
   "source": [
    "num=int(input(\"enter number you want to check:\"))\n",
    "if num > 0:\n",
    "    print(\"positive number\")\n",
    "elif num <0:\n",
    "    print(\"negative number\")\n",
    "else:\n",
    "    print(\"zero\")"
   ]
  },
  {
   "cell_type": "code",
   "execution_count": 9,
   "id": "9204b56d",
   "metadata": {},
   "outputs": [
    {
     "name": "stdout",
     "output_type": "stream",
     "text": [
      "you are eligibal to vote.😁\n"
     ]
    }
   ],
   "source": [
    "age = 20\n",
    "if age >= 18:\n",
    "    print(\"you are eligibal to vote.😁\")\n",
    "else:\n",
    "    print(\"you are not eligibal to vote.😒\")"
   ]
  },
  {
   "cell_type": "code",
   "execution_count": 10,
   "id": "970f3b81",
   "metadata": {},
   "outputs": [
    {
     "name": "stdout",
     "output_type": "stream",
     "text": [
      "Even no.\n"
     ]
    }
   ],
   "source": [
    "a= 10\n",
    "if a % 2 ==0:\n",
    "    print(\"Even no.\")\n",
    "else:\n",
    "    print(\"Odd no.\")"
   ]
  },
  {
   "cell_type": "code",
   "execution_count": 11,
   "id": "1837ff44",
   "metadata": {},
   "outputs": [
    {
     "name": "stdout",
     "output_type": "stream",
     "text": [
      "vowel\n"
     ]
    }
   ],
   "source": [
    "char=str(input(\"character\"))\n",
    "if char.lower() in 'aeiou':\n",
    "    print(\"vowel\")\n",
    "else:\n",
    "    print(\"not vowel\")"
   ]
  },
  {
   "cell_type": "code",
   "execution_count": 14,
   "id": "cf7d5b66",
   "metadata": {},
   "outputs": [
    {
     "name": "stdout",
     "output_type": "stream",
     "text": [
      "consonant\n"
     ]
    }
   ],
   "source": [
    "char= input(\"Enter a character: \")\n",
    "if char =='a' or char== 'e' or char=='i' or char=='o' or char=='u' or char=='A' or char =='E' or char == 'I' or char == 'O' or char == 'U':\n",
    "    print(\"vowel\")\n",
    "\n",
    "else:\n",
    "    print(\"consonant\")\n"
   ]
  },
  {
   "cell_type": "code",
   "execution_count": 15,
   "id": "e977cb2b",
   "metadata": {},
   "outputs": [
    {
     "name": "stdout",
     "output_type": "stream",
     "text": [
      "vowel\n"
     ]
    }
   ],
   "source": [
    "char= 'a'\n",
    "if (char =='a',char =='e', char=='i', char=='o', char=='u'):\n",
    "    print('vowel')\n",
    "\n"
   ]
  },
  {
   "cell_type": "markdown",
   "id": "2b8ea39c",
   "metadata": {},
   "source": [
    "Check whether a year is a leap year or not\n",
    "Check whether a triangle is equilateral, isosceles, or scalene\n",
    "Check whether the two sides of a triangle are equal or not"
   ]
  },
  {
   "cell_type": "code",
   "execution_count": null,
   "id": "0a7182a4",
   "metadata": {},
   "outputs": [],
   "source": []
  }
 ],
 "metadata": {
  "kernelspec": {
   "display_name": "base",
   "language": "python",
   "name": "python3"
  },
  "language_info": {
   "codemirror_mode": {
    "name": "ipython",
    "version": 3
   },
   "file_extension": ".py",
   "mimetype": "text/x-python",
   "name": "python",
   "nbconvert_exporter": "python",
   "pygments_lexer": "ipython3",
   "version": "3.13.2"
  }
 },
 "nbformat": 4,
 "nbformat_minor": 5
}
