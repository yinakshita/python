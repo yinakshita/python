{
 "cells": [
  {
   "cell_type": "code",
   "execution_count": 1,
   "id": "8b819d21",
   "metadata": {},
   "outputs": [
    {
     "name": "stdout",
     "output_type": "stream",
     "text": [
      "13\n",
      "7\n",
      "30\n",
      "3.3333333333333335\n",
      "3\n",
      "1\n",
      "1000\n"
     ]
    }
   ],
   "source": [
    "#Arithmetic operators\n",
    "a = 10\n",
    "b = 3\n",
    "print(a + b)\n",
    "print(a - b)\n",
    "print(a * b)\n",
    "print(a / b)\n",
    "print(a // b)\n",
    "print(a % b)\n",
    "print(a ** b)\n"
   ]
  },
  {
   "cell_type": "code",
   "execution_count": 2,
   "id": "8279ad50",
   "metadata": {},
   "outputs": [
    {
     "name": "stdout",
     "output_type": "stream",
     "text": [
      "False\n",
      "True\n",
      "False\n",
      "True\n",
      "False\n",
      "True\n"
     ]
    }
   ],
   "source": [
    "#Comparison operators\n",
    "x = 5\n",
    "y = 10\n",
    "print(x == y)\n",
    "print(x != y)\n",
    "print(x > y)\n",
    "print(x < y)\n",
    "print(x >= y)\n",
    "print(x <= y)\n"
   ]
  },
  {
   "cell_type": "code",
   "execution_count": 3,
   "id": "0dda9ee0",
   "metadata": {},
   "outputs": [
    {
     "name": "stdout",
     "output_type": "stream",
     "text": [
      "1.0\n"
     ]
    }
   ],
   "source": [
    "#Assignment Operators\n",
    "v = 5\n",
    "v += 3\n",
    "v -= 2\n",
    "v *= 2\n",
    "v /= 2\n",
    "v //= 2\n",
    "v %= 2\n",
    "v **= 2\n",
    "print(v)\n"
   ]
  },
  {
   "cell_type": "code",
   "execution_count": 4,
   "id": "ab39f50d",
   "metadata": {},
   "outputs": [
    {
     "name": "stdout",
     "output_type": "stream",
     "text": [
      "True\n",
      "True\n",
      "True\n"
     ]
    }
   ],
   "source": [
    "#Logical operators\n",
    "a = 7\n",
    "b = 3\n",
    "print(a > 5 and b < 5)\n",
    "print(a > 5 or b < 5)\n",
    "print(not(a < 5))"
   ]
  },
  {
   "cell_type": "code",
   "execution_count": 5,
   "id": "d73ffcc9",
   "metadata": {},
   "outputs": [
    {
     "name": "stdout",
     "output_type": "stream",
     "text": [
      "True\n",
      "True\n",
      "False\n",
      "True\n"
     ]
    }
   ],
   "source": [
    "#identity operators\n",
    "x = 10\n",
    "y = 10\n",
    "z = 20\n",
    "print(x == y) # TRUE = same value\n",
    "print(x is y) # TRUE = same object\n",
    "print(x is z) # False = different value + different object\n",
    "print(x is not z) # true = x and y are not same object\n"
   ]
  },
  {
   "cell_type": "code",
   "execution_count": 7,
   "id": "ee7f6cae",
   "metadata": {},
   "outputs": [
    {
     "name": "stdout",
     "output_type": "stream",
     "text": [
      "True\n",
      "False\n",
      "False\n"
     ]
    }
   ],
   "source": [
    "#Membership operators\n",
    "fruits = [\"apple\", \"mango\" , \"grapes\"]\n",
    "print(\"apple\" in fruits)\n",
    "print(\"cherry\" in fruits)\n",
    "print(\"grapes\" not in fruits)\n"
   ]
  }
 ],
 "metadata": {
  "kernelspec": {
   "display_name": "base",
   "language": "python",
   "name": "python3"
  },
  "language_info": {
   "codemirror_mode": {
    "name": "ipython",
    "version": 3
   },
   "file_extension": ".py",
   "mimetype": "text/x-python",
   "name": "python",
   "nbconvert_exporter": "python",
   "pygments_lexer": "ipython3",
   "version": "3.13.5"
  }
 },
 "nbformat": 4,
 "nbformat_minor": 5
}
