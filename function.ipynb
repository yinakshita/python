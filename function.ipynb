{
 "cells": [
  {
   "cell_type": "markdown",
   "id": "fbb5ed1c",
   "metadata": {},
   "source": [
    "Typer  of functions\n",
    "user defined functions\n",
    " parameterized\n",
    " non parameterized\n",
    " return\n",
    " non return \n",
    " "
   ]
  },
  {
   "cell_type": "markdown",
   "id": "4e05625e",
   "metadata": {},
   "source": [
    "Basic structure of a function "
   ]
  },
  {
   "cell_type": "code",
   "execution_count": 1,
   "id": "76c21e0b",
   "metadata": {},
   "outputs": [],
   "source": [
    "def function_name(parameters):\n",
    "    # code block \n",
    "    return result"
   ]
  },
  {
   "cell_type": "code",
   "execution_count": 3,
   "id": "2b7067f6",
   "metadata": {},
   "outputs": [
    {
     "name": "stdout",
     "output_type": "stream",
     "text": [
      "Hello, World!\n"
     ]
    }
   ],
   "source": [
    "def greet():\n",
    "    print(\"Hello, World!\")\n",
    "\n",
    "greet()"
   ]
  },
  {
   "cell_type": "code",
   "execution_count": 4,
   "id": "434cbe3c",
   "metadata": {},
   "outputs": [
    {
     "name": "stdout",
     "output_type": "stream",
     "text": [
      "Hello, Alice!\n"
     ]
    }
   ],
   "source": [
    "def greet_user(name):\n",
    "    print(f\"Hello, {name}!\")\n",
    "\n",
    "greet_user(\"Alice\")"
   ]
  },
  {
   "cell_type": "code",
   "execution_count": 5,
   "id": "8f8b2d43",
   "metadata": {},
   "outputs": [
    {
     "name": "stdout",
     "output_type": "stream",
     "text": [
      "8\n"
     ]
    }
   ],
   "source": [
    "def add(a,b):\n",
    "    return a + b\n",
    "result = add(5, 3)\n",
    "print(result)"
   ]
  },
  {
   "cell_type": "markdown",
   "id": "edf5f95d",
   "metadata": {},
   "source": [
    "types of function\n",
    "1) Built-in-functions - like print(),len(),type() etc\n",
    "2) User-defined Function - function define using def .\n"
   ]
  },
  {
   "cell_type": "code",
   "execution_count": null,
   "id": "094148a1",
   "metadata": {},
   "outputs": [],
   "source": [
    "#function with default arguments\n",
    "#agr user koi value pass na kare toh default values use hoti h "
   ]
  },
  {
   "cell_type": "code",
   "execution_count": 7,
   "id": "e5c039ed",
   "metadata": {},
   "outputs": [
    {
     "name": "stdout",
     "output_type": "stream",
     "text": [
      "Hello, guest!\n",
      "Hello, Samriddhi!\n"
     ]
    }
   ],
   "source": [
    "def greet(name = \"guest\"):\n",
    "    print(f\"Hello, {name}!\")\n",
    "greet()   \n",
    "greet(\"Samriddhi\") "
   ]
  },
  {
   "cell_type": "code",
   "execution_count": 9,
   "id": "d6a5231d",
   "metadata": {},
   "outputs": [
    {
     "name": "stdout",
     "output_type": "stream",
     "text": [
      "6\n",
      "237\n"
     ]
    }
   ],
   "source": [
    "#Functio with *args(Multiple Arguments)\n",
    "#*args ka matlab hai : kitni bhi arguments pass ho sakti hain , wo ek tuple ke form mein milengi .\n",
    "def add_all(*numbers):\n",
    "    total = 0\n",
    "    for num in numbers:\n",
    "        total += num\n",
    "    return total\n",
    "\n",
    "print(add_all(1,2,3))\n",
    "\n",
    "print(add_all(66,34,74,63))\n"
   ]
  },
  {
   "cell_type": "code",
   "execution_count": 10,
   "id": "49c56046",
   "metadata": {},
   "outputs": [
    {
     "name": "stdout",
     "output_type": "stream",
     "text": [
      "name: Alice\n",
      "age: 30\n",
      "city: New York\n"
     ]
    }
   ],
   "source": [
    "# Function with **kwargs (Keyword Arguments)\n",
    "#**kwargs ka matlab hai : kitne bhi keyword arguments pass ho sakte hain , wo ek dictionary ke form mein milengi .\n",
    "def user_info(**info):\n",
    "    for key, value in info.items():\n",
    "        print(f\"{key}: {value}\")\n",
    "user_info(name=\"Alice\", age=30, city=\"New York\")        "
   ]
  },
  {
   "cell_type": "code",
   "execution_count": 11,
   "id": "36465929",
   "metadata": {},
   "outputs": [
    {
     "name": "stdout",
     "output_type": "stream",
     "text": [
      "25\n"
     ]
    }
   ],
   "source": [
    "#lamba function \n",
    "#ye short , anonymous function hota hai - mostly small calculations ke liye use hota hai\n",
    "square = lambda x: x * x\n",
    "print(square(5))"
   ]
  },
  {
   "cell_type": "code",
   "execution_count": 13,
   "id": "bd643033",
   "metadata": {},
   "outputs": [
    {
     "name": "stdout",
     "output_type": "stream",
     "text": [
      "120\n"
     ]
    }
   ],
   "source": [
    "#Recursion(function calling itself)\n",
    "\n",
    "def factorial(n):\n",
    "    if n == 1:\n",
    "       return 1\n",
    "    else:\n",
    "        return n * factorial(n - 1)\n",
    "\n",
    "print(factorial(5))  # Output: 120    \n",
    " "
   ]
  },
  {
   "cell_type": "code",
   "execution_count": 14,
   "id": "1e3433db",
   "metadata": {},
   "outputs": [
    {
     "name": "stdout",
     "output_type": "stream",
     "text": [
      "[1, 4, 9, 16, 25]\n"
     ]
    }
   ],
   "source": [
    "lst = [1, 2, 3, 4, 5]\n",
    "sqr = []\n",
    "for i in lst:\n",
    "    sqr.append(i**2)\n",
    "print(sqr)    "
   ]
  },
  {
   "cell_type": "code",
   "execution_count": 15,
   "id": "ea3e2166",
   "metadata": {},
   "outputs": [
    {
     "name": "stdout",
     "output_type": "stream",
     "text": [
      "[1, 4, 9, 16, 25]\n"
     ]
    }
   ],
   "source": [
    "def squared_list(numbers):\n",
    "    sqr= []\n",
    "    for i in numbers:\n",
    "        sqr.append(i**2)\n",
    "    return sqr\n",
    "print(squared_list([1, 2, 3, 4, 5]))    \n",
    "    "
   ]
  },
  {
   "cell_type": "code",
   "execution_count": 16,
   "id": "780d07af",
   "metadata": {},
   "outputs": [
    {
     "name": "stdout",
     "output_type": "stream",
     "text": [
      "[1, 4, 9, 16, 25]\n"
     ]
    }
   ],
   "source": [
    "lst = [1, 2, 3, 4, 5]\n",
    "aquares = [num ** 2 for num in lst]\n",
    "\n",
    "print(aquares)  # Output: [1, 4, 9, 16, 25]"
   ]
  }
 ],
 "metadata": {
  "kernelspec": {
   "display_name": "base",
   "language": "python",
   "name": "python3"
  },
  "language_info": {
   "codemirror_mode": {
    "name": "ipython",
    "version": 3
   },
   "file_extension": ".py",
   "mimetype": "text/x-python",
   "name": "python",
   "nbconvert_exporter": "python",
   "pygments_lexer": "ipython3",
   "version": "3.13.5"
  }
 },
 "nbformat": 4,
 "nbformat_minor": 5
}
