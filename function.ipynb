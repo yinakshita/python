{
 "cells": [
  {
   "cell_type": "markdown",
   "id": "fbb5ed1c",
   "metadata": {},
   "source": [
    "Typer  of functions\n",
    "user defined functions\n",
    " parameterized\n",
    " non parameterized\n",
    " return\n",
    " non return \n",
    " "
   ]
  },
  {
   "cell_type": "code",
   "execution_count": null,
   "id": "76c21e0b",
   "metadata": {},
   "outputs": [],
   "source": []
  }
 ],
 "metadata": {
  "language_info": {
   "name": "python"
  }
 },
 "nbformat": 4,
 "nbformat_minor": 5
}
