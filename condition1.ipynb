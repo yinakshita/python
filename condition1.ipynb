{
 "cells": [
  {
   "cell_type": "markdown",
   "id": "7c99192c",
   "metadata": {},
   "source": [
    "CONDITIONS decide krte h ki code kaunsa block execute kare based on true / false condition\n",
    "\n",
    "python mai condition if , elif , if-else , nested if"
   ]
  },
  {
   "cell_type": "code",
   "execution_count": null,
   "id": "1382ac0d",
   "metadata": {},
   "outputs": [],
   "source": [
    "# if statemnt \n",
    "\n"
   ]
  }
 ],
 "metadata": {
  "language_info": {
   "name": "python"
  }
 },
 "nbformat": 4,
 "nbformat_minor": 5
}
