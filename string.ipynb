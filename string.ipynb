{
 "cells": [
  {
   "cell_type": "markdown",
   "id": "01f60fd1",
   "metadata": {},
   "source": [
    "String matalab letters , numbers ya characteers ka group - jise hum quotes('' ya \" \") ke andr likhte hai "
   ]
  },
  {
   "cell_type": "code",
   "execution_count": 3,
   "id": "c6c1a661",
   "metadata": {},
   "outputs": [
    {
     "name": "stdout",
     "output_type": "stream",
     "text": [
      "Akshita\n",
      "Lucknow\n"
     ]
    }
   ],
   "source": [
    "name = \"Akshita\"\n",
    "city = 'Lucknow'\n",
    "print(name)\n",
    "print(city)"
   ]
  },
  {
   "cell_type": "code",
   "execution_count": 4,
   "id": "639711e3",
   "metadata": {},
   "outputs": [
    {
     "name": "stdout",
     "output_type": "stream",
     "text": [
      "Hello\n",
      "Python is fun\n"
     ]
    }
   ],
   "source": [
    "#How to declare a string \n",
    "text1 = \"Hello\"\n",
    "text2 = \"Python is fun\"\n",
    "print(text1)\n",
    "print(text2)"
   ]
  },
  {
   "cell_type": "code",
   "execution_count": 5,
   "id": "cac19295",
   "metadata": {},
   "outputs": [
    {
     "name": "stdout",
     "output_type": "stream",
     "text": [
      "I Love Python\n"
     ]
    }
   ],
   "source": [
    "#printing a string\n",
    "msg = \"I Love Python\"\n",
    "print(msg)"
   ]
  },
  {
   "cell_type": "code",
   "execution_count": 7,
   "id": "533be14d",
   "metadata": {},
   "outputs": [
    {
     "name": "stdout",
     "output_type": "stream",
     "text": [
      "A\n",
      "P\n",
      "E\n"
     ]
    }
   ],
   "source": [
    "#String Indexing (letter ko position se access karna)\n",
    "word = \"APPLE\"\n",
    "print(word[0])\n",
    "print(word[1])\n",
    "print(word[4])"
   ]
  },
  {
   "cell_type": "code",
   "execution_count": 8,
   "id": "d97b8434",
   "metadata": {},
   "outputs": [
    {
     "name": "stdout",
     "output_type": "stream",
     "text": [
      "E\n",
      "L\n"
     ]
    }
   ],
   "source": [
    "#Negative indexing\n",
    "print(word[-1])\n",
    "print(word[-2])"
   ]
  },
  {
   "cell_type": "code",
   "execution_count": 9,
   "id": "79c82168",
   "metadata": {},
   "outputs": [
    {
     "name": "stdout",
     "output_type": "stream",
     "text": [
      "Good Morning\n"
     ]
    }
   ],
   "source": [
    "#String Concatenation (do strings ko jodna)\n",
    "first = \"Good\"\n",
    "second = \"Morning\"\n",
    "print(first + \" \" + second)"
   ]
  },
  {
   "cell_type": "code",
   "execution_count": 10,
   "id": "3aaecdab",
   "metadata": {},
   "outputs": [
    {
     "name": "stdout",
     "output_type": "stream",
     "text": [
      "I am 15 years old\n"
     ]
    }
   ],
   "source": [
    "#String with numbers\n",
    "age = 15\n",
    "print(\"I am \" + str(age) + \" years old\")"
   ]
  },
  {
   "cell_type": "markdown",
   "id": "5e1f5645",
   "metadata": {},
   "source": [
    "Useful string functions\n",
    "len()- length batata hai\n",
    ".upper()-sab capital\n",
    ".lower()-sab small\n",
    ".replace()-word badalana (hi h - p ,pi)\n",
    ".count() - kitni baar aya (madam a ka count = 2)\n"
   ]
  },
  {
   "cell_type": "code",
   "execution_count": 11,
   "id": "f65b9f2f",
   "metadata": {},
   "outputs": [
    {
     "name": "stdout",
     "output_type": "stream",
     "text": [
      "5\n"
     ]
    }
   ],
   "source": [
    "#.len()- length batata hai\n",
    "\n",
    "word = \"hello\"\n",
    "print(len(word))"
   ]
  },
  {
   "cell_type": "code",
   "execution_count": 12,
   "id": "c3b5f768",
   "metadata": {},
   "outputs": [
    {
     "name": "stdout",
     "output_type": "stream",
     "text": [
      "AKSHITA\n"
     ]
    }
   ],
   "source": [
    "#.upper()\n",
    "\n",
    "name = \"akshita\"\n",
    "print(name.upper())\n"
   ]
  },
  {
   "cell_type": "code",
   "execution_count": 13,
   "id": "66aed874",
   "metadata": {},
   "outputs": [
    {
     "name": "stdout",
     "output_type": "stream",
     "text": [
      "python\n"
     ]
    }
   ],
   "source": [
    "#.lower()\n",
    "\n",
    "word = \"PYTHON\"\n",
    "print(word.lower())"
   ]
  },
  {
   "cell_type": "code",
   "execution_count": null,
   "id": "bba70929",
   "metadata": {},
   "outputs": [
    {
     "name": "stdout",
     "output_type": "stream",
     "text": [
      "Ginger garlic\n"
     ]
    }
   ],
   "source": [
    "#.capitalize() phlae word ka pphla letter capital karta h\n",
    "\n",
    "text = \"ginger garlic\"\n",
    "print(text.capitalize())"
   ]
  },
  {
   "cell_type": "code",
   "execution_count": 17,
   "id": "c429d7ad",
   "metadata": {},
   "outputs": [
    {
     "name": "stdout",
     "output_type": "stream",
     "text": [
      "Python Is Fun\n"
     ]
    }
   ],
   "source": [
    "#.title() - har word ka phla letter capital krta h \n",
    "\n",
    "line = \"python is fun\"\n",
    "print(line.title())"
   ]
  },
  {
   "cell_type": "code",
   "execution_count": 18,
   "id": "abc7762b",
   "metadata": {},
   "outputs": [
    {
     "name": "stdout",
     "output_type": "stream",
     "text": [
      "hello world\n"
     ]
    }
   ],
   "source": [
    "#.strip() - extra spaces hata deta h\n",
    "msg = \"  hello world  \"\n",
    "print(msg.strip())"
   ]
  },
  {
   "cell_type": "code",
   "execution_count": 20,
   "id": "44bdfec9",
   "metadata": {},
   "outputs": [
    {
     "name": "stdout",
     "output_type": "stream",
     "text": [
      "Man\n"
     ]
    }
   ],
   "source": [
    "#.replace() - replace word ya letter\n",
    "day = \"Mon\"\n",
    "print(day.replace(\"o\", \"a\"))"
   ]
  },
  {
   "cell_type": "code",
   "execution_count": 21,
   "id": "ba493996",
   "metadata": {},
   "outputs": [
    {
     "name": "stdout",
     "output_type": "stream",
     "text": [
      "2\n"
     ]
    }
   ],
   "source": [
    "#.count()\n",
    "word = \"madam\"\n",
    "print(word.count(\"a\"))  # Count of 'a' in \"madam\""
   ]
  },
  {
   "cell_type": "code",
   "execution_count": 22,
   "id": "28d75dad",
   "metadata": {},
   "outputs": [
    {
     "name": "stdout",
     "output_type": "stream",
     "text": [
      "7\n"
     ]
    }
   ],
   "source": [
    "#.find()\n",
    "sentence = \"Python is a programming language\"\n",
    "print(sentence.find(\"is\"))  # Returns the index of the first occurrence of \"is\""
   ]
  },
  {
   "cell_type": "code",
   "execution_count": 3,
   "id": "68561f37",
   "metadata": {},
   "outputs": [
    {
     "name": "stdout",
     "output_type": "stream",
     "text": [
      "True\n"
     ]
    }
   ],
   "source": [
    "#startswith()\n",
    "\n",
    "name = \"Akshita\"\n",
    "print(name.startswith(\"A\"))  # Returns True if the string starts with \"A\""
   ]
  },
  {
   "cell_type": "code",
   "execution_count": 26,
   "id": "d89ebc07",
   "metadata": {},
   "outputs": [
    {
     "name": "stdout",
     "output_type": "stream",
     "text": [
      "False\n"
     ]
    }
   ],
   "source": [
    "#.endswith()\n",
    "\n",
    "print(name.endswith(\"i\"))  # Returns True if the string ends with \"a\"\n"
   ]
  },
  {
   "cell_type": "code",
   "execution_count": 27,
   "id": "62bf6855",
   "metadata": {},
   "outputs": [
    {
     "name": "stdout",
     "output_type": "stream",
     "text": [
      "['Python', 'is', 'fun']\n"
     ]
    }
   ],
   "source": [
    "#.split()\n",
    "sentence = \"Python is fun\"\n",
    "print(sentence.split())  # Splits the string into a list of words"
   ]
  },
  {
   "cell_type": "code",
   "execution_count": 28,
   "id": "a8779922",
   "metadata": {},
   "outputs": [
    {
     "name": "stdout",
     "output_type": "stream",
     "text": [
      "ana\n"
     ]
    }
   ],
   "source": [
    "# Slicing Strings\n",
    "text = \"Banana\"\n",
    "print(text[1:4])  # Prints characters from index 1 to 3 (not including 4)"
   ]
  },
  {
   "cell_type": "code",
   "execution_count": 29,
   "id": "430b4963",
   "metadata": {},
   "outputs": [
    {
     "name": "stdout",
     "output_type": "stream",
     "text": [
      "hihihi\n"
     ]
    }
   ],
   "source": [
    "#String Repetition(*)\n",
    "\n",
    "word = \"hi\"\n",
    "print(word * 3)  # Prints \"hihihi\""
   ]
  },
  {
   "cell_type": "code",
   "execution_count": 32,
   "id": "782a6c9e",
   "metadata": {},
   "outputs": [
    {
     "name": "stdout",
     "output_type": "stream",
     "text": [
      "True\n",
      "True\n",
      "False\n"
     ]
    }
   ],
   "source": [
    "#check substring (in/not in)\n",
    "text = \"I know python\"\n",
    "print(\"know\" in text)  # Returns True if \"know\" is a substring of text\n",
    "print(\"java\" not in text)  # Returns True if \"java\" is not a substring of text\n",
    "print(\"c++\" in text)  # Returns True if \"python\" is a substring of text"
   ]
  },
  {
   "cell_type": "code",
   "execution_count": 6,
   "id": "96f3ba10",
   "metadata": {},
   "outputs": [
    {
     "name": "stdout",
     "output_type": "stream",
     "text": [
      "Roses are red, \n",
      "violets are blue.\n"
     ]
    }
   ],
   "source": [
    "#Multiline string\n",
    "\n",
    "poem = '''Roses are red, \n",
    "violets are blue.'''\n",
    "print(poem)"
   ]
  },
  {
   "cell_type": "code",
   "execution_count": 35,
   "id": "cf1042f2",
   "metadata": {},
   "outputs": [
    {
     "name": "stdout",
     "output_type": "stream",
     "text": [
      "A\n",
      "k\n",
      "s\n",
      "h\n",
      "i\n",
      "t\n",
      "a\n"
     ]
    }
   ],
   "source": [
    "word = \"Akshita\"\n",
    "\n",
    "for i in range(len(word)):\n",
    "    print(word[i])  # Prints each character in the string \"Akshita\""
   ]
  },
  {
   "cell_type": "markdown",
   "id": "2e52a0c2",
   "metadata": {},
   "source": [
    "for letter in word\n",
    "yeh loop bolega Har letter ko ek ek karke le aur print krye \n",
    "note\n",
    "python string ek sequence hoti h, jise hum loop kar skt h "
   ]
  },
  {
   "cell_type": "code",
   "execution_count": 36,
   "id": "faae1ebc",
   "metadata": {},
   "outputs": [
    {
     "name": "stdout",
     "output_type": "stream",
     "text": [
      "Index 0: c\n",
      "Index 1: a\n",
      "Index 2: t\n"
     ]
    }
   ],
   "source": [
    "text = \"cat\"\n",
    "\n",
    "for i in range(len(text)):\n",
    "    print(f\"Index {i}: {text[i]}\")  # Prints each character in the string \"cat\""
   ]
  },
  {
   "cell_type": "markdown",
   "id": "9105592e",
   "metadata": {},
   "source": [
    "✅ Beginner Level – (Basic understanding)\n",
    "\n",
    "1. Write a Python program to take your name as input and print it.\n",
    "\n",
    "\n",
    "2. Print the first and last character of the string \"Python\".\n",
    "\n",
    "\n",
    "3. Find the length of the string \"Hello World\" using len().\n",
    "\n",
    "\n",
    "4. Concatenate two strings: \"Good\" and \"Morning\".\n",
    "\n",
    "\n",
    "5. Convert \"hello\" to uppercase using a string method.\n",
    "\n",
    "\n",
    "6. Print the character at index 2 of the string \"School\".\n",
    "\n",
    "\n",
    "7. Check whether \"a\" is present in the word \"banana\" using in.\n",
    "\n",
    "\n",
    "8. Take a sentence and count how many times \"a\" appears using .count().\n",
    "\n",
    "\n",
    "9. Create a string with your favorite fruit and repeat it 3 times using *.\n",
    "\n",
    "\n",
    "10. Split the sentence \"Python is fun\" into a list using .split().\n",
    "\n",
    "\n",
    "\n",
    "\n",
    "---\n",
    "\n",
    "✅ Intermediate Level – (Indexing, slicing, methods)\n",
    "\n",
    "11. Slice the string \"Programming\" to get \"gram\".\n",
    "\n",
    "\n",
    "12. Reverse the string \"Akshita\" using slicing.\n",
    "\n",
    "\n",
    "13. Replace \"morning\" with \"evening\" in \"Good morning!\".\n",
    "\n",
    "\n",
    "14. Check whether the string \"HELLO\" is uppercase using .isupper().\n",
    "\n",
    "\n",
    "15. Input a string and print how many vowels are in it.\n",
    "\n",
    "\n",
    "16. Write a program to print only the vowels from \"education\".\n",
    "\n",
    "\n",
    "17. Join the list [\"Learn\", \"Python\"] into a single string.\n",
    "\n",
    "\n",
    "18. Check if the string \"apple\" starts with \"a\" and ends with \"e\".\n",
    "\n",
    "\n",
    "19. Split a 3-line string using .splitlines() and print each line.\n",
    "\n",
    "\n",
    "20. Input a sentence and print each word on a new line using loop.\n"
   ]
  }
 ],
 "metadata": {
  "kernelspec": {
   "display_name": "base",
   "language": "python",
   "name": "python3"
  },
  "language_info": {
   "codemirror_mode": {
    "name": "ipython",
    "version": 3
   },
   "file_extension": ".py",
   "mimetype": "text/x-python",
   "name": "python",
   "nbconvert_exporter": "python",
   "pygments_lexer": "ipython3",
   "version": "3.13.5"
  }
 },
 "nbformat": 4,
 "nbformat_minor": 5
}
