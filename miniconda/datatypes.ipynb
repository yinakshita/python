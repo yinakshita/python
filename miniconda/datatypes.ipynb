{
 "cells": [
  {
   "cell_type": "code",
   "execution_count": 3,
   "id": "ce27b568",
   "metadata": {},
   "outputs": [
    {
     "name": "stdout",
     "output_type": "stream",
     "text": [
      "Age is: 12\n",
      "data type of age is: <class 'int'>\n"
     ]
    }
   ],
   "source": [
    "#Integer means poora number (koi point nahi hota )\n",
    "\n",
    "age = 12\n",
    "print(\"Age is:\", age)\n",
    "print(\"data type of age is:\", type(age))"
   ]
  },
  {
   "cell_type": "code",
   "execution_count": 4,
   "id": "a7b0297c",
   "metadata": {},
   "outputs": [
    {
     "name": "stdout",
     "output_type": "stream",
     "text": [
      "Temperature is: 36.6\n",
      "data type of temperature is: <class 'float'>\n"
     ]
    }
   ],
   "source": [
    "# float matlab number jisme point hota hai \n",
    "\n",
    "temperature = 36.6\n",
    "print(\"Temperature is:\", temperature)\n",
    "print(\"data type of temperature is:\", type(temperature))"
   ]
  },
  {
   "cell_type": "code",
   "execution_count": 5,
   "id": "6f5052ee",
   "metadata": {},
   "outputs": [
    {
     "name": "stdout",
     "output_type": "stream",
     "text": [
      "Name is: Akshita\n",
      "data type of name is: <class 'str'>\n"
     ]
    }
   ],
   "source": [
    "#String means kuch bhi likha hua text ya word humesha \"\" ya '' ke andar likhte hain\n",
    "\n",
    "name = \"Akshita\"\n",
    "print(\"Name is:\", name)\n",
    "print(\"data type of name is:\", type(name))"
   ]
  },
  {
   "cell_type": "code",
   "execution_count": 6,
   "id": "0ddefef4",
   "metadata": {},
   "outputs": [
    {
     "name": "stdout",
     "output_type": "stream",
     "text": [
      "Is student: True\n",
      "data type of is_student is: <class 'bool'>\n"
     ]
    }
   ],
   "source": [
    "# boolean ka matlab hota hai true ya false\n",
    "\n",
    "is_student = True\n",
    "print(\"Is student:\", is_student)\n",
    "print(\"data type of is_student is:\", type(is_student))"
   ]
  },
  {
   "cell_type": "code",
   "execution_count": 7,
   "id": "a0e9c4e9",
   "metadata": {},
   "outputs": [
    {
     "name": "stdout",
     "output_type": "stream",
     "text": [
      "Homework done: None\n",
      "data type of homework_done is: <class 'NoneType'>\n"
     ]
    }
   ],
   "source": [
    "# none - jab kisi variable ki value abhi decide nahi ki h \n",
    "\n",
    "homework_done = None\n",
    "print(\"Homework done:\", homework_done)\n",
    "print(\"data type of homework_done is:\", type(homework_done))"
   ]
  },
  {
   "cell_type": "code",
   "execution_count": 8,
   "id": "fee29b21",
   "metadata": {},
   "outputs": [
    {
     "name": "stdout",
     "output_type": "stream",
     "text": [
      "Fruits list: ['apple', 'banana', 'cherry']\n",
      "data type of fruits is: <class 'list'>\n"
     ]
    }
   ],
   "source": [
    "# list - ek list jisme multiple values hoti hain, square brackets me likhte hain\n",
    "\n",
    "fruits = [\"apple\", \"banana\", \"cherry\"]\n",
    "print(\"Fruits list:\", fruits)\n",
    "print(\"data type of fruits is:\", type(fruits))"
   ]
  },
  {
   "cell_type": "code",
   "execution_count": 9,
   "id": "ba80f247",
   "metadata": {},
   "outputs": [
    {
     "name": "stdout",
     "output_type": "stream",
     "text": [
      "colors tuple: ('red ', 'green', 'blue')\n",
      "data type of colors <class 'tuple'>\n"
     ]
    }
   ],
   "source": [
    "# tuple bhi list jaisa hi hota h but fixed hota h (change nhi hota h)\n",
    "\n",
    "colors = (\"red \", \"green\", \"blue\")\n",
    "print(\"colors tuple:\" , colors)\n",
    "print(\"data type of colors\" , type(colors))"
   ]
  },
  {
   "cell_type": "code",
   "execution_count": 10,
   "id": "c16d9a7a",
   "metadata": {},
   "outputs": [
    {
     "name": "stdout",
     "output_type": "stream",
     "text": [
      "Student info: {'name': 'Akshita', 'age': 12, 'class': '7th'}\n",
      "data type of student is: <class 'dict'>\n"
     ]
    }
   ],
   "source": [
    "# dictionary - ek dictionary jisme key-value pairs hote hain \n",
    "\n",
    "student = {\"name\" : \"Akshita\", \"age\": 12 , \"class\": \"7th\"}\n",
    "print(\"Student info:\" , student)\n",
    "print(\"data type of student is:\", type(student))"
   ]
  },
  {
   "cell_type": "code",
   "execution_count": 12,
   "id": "58ca8d43",
   "metadata": {},
   "outputs": [
    {
     "name": "stdout",
     "output_type": "stream",
     "text": [
      "Unique numbers set: {0, 1, 3, 4, 6, 24, 92}\n",
      "data type of unique_numbers is: <class 'set'>\n"
     ]
    }
   ],
   "source": [
    "# set me values repeat nhi hoti h \n",
    "\n",
    "unique_numbers = {1,24,6,92,3,1,4,0}\n",
    "print(\"Unique numbers set:\", unique_numbers)\n",
    "print(\"data type of unique_numbers is:\", type(unique_numbers))"
   ]
  },
  {
   "cell_type": "code",
   "execution_count": null,
   "id": "34de3065",
   "metadata": {},
   "outputs": [],
   "source": []
  }
 ],
 "metadata": {
  "kernelspec": {
   "display_name": "base",
   "language": "python",
   "name": "python3"
  },
  "language_info": {
   "codemirror_mode": {
    "name": "ipython",
    "version": 3
   },
   "file_extension": ".py",
   "mimetype": "text/x-python",
   "name": "python",
   "nbconvert_exporter": "python",
   "pygments_lexer": "ipython3",
   "version": "3.13.5"
  }
 },
 "nbformat": 4,
 "nbformat_minor": 5
}
